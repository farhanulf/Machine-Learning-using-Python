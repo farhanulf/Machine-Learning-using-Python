{
 "cells": [
  {
   "cell_type": "markdown",
   "id": "1dbaf975",
   "metadata": {},
   "source": [
    "# Comparing Supervised Learning Performance\n",
    "\n",
    "\n",
    "Farhanul Fajri"
   ]
  },
  {
   "cell_type": "markdown",
   "id": "de6df1d7",
   "metadata": {},
   "source": [
    "## Context\n",
    "\n",
    "\"We have received a project from Orange Telecom Company where they want to predict what kind of customers are likely to churn, but they are unsure about the specific Machine Learning model that should be used to achieve the best possible predictions. Therefore, we will compare the performance of several machine learning models and determine which model is the most effective.\"\n",
    "\n",
    "###### **The dataset is from kaggle."
   ]
  },
  {
   "cell_type": "markdown",
   "id": "293fed14",
   "metadata": {},
   "source": [
    "We can start by load some libraries and analyze the dataset"
   ]
  },
  {
   "cell_type": "markdown",
   "id": "d6a425d6",
   "metadata": {},
   "source": [
    "## Load Libraries"
   ]
  },
  {
   "cell_type": "code",
   "execution_count": 1,
   "id": "0a4e40d7",
   "metadata": {},
   "outputs": [],
   "source": [
    "# For data manipulation\n",
    "import pandas as pd\n",
    "import numpy as np\n",
    "\n",
    "# For visualization\n",
    "import seaborn as sns\n",
    "import matplotlib.pyplot as plt\n",
    "\n",
    "# For handing imbalanced data\n",
    "from imblearn.over_sampling import SMOTE\n",
    "\n",
    "# For data splitting, transforming and model training\n",
    "from sklearn.model_selection import train_test_split\n",
    "from sklearn.linear_model import LogisticRegression\n",
    "from sklearn import svm\n",
    "from sklearn.tree import DecisionTreeClassifier\n",
    "from sklearn.ensemble import RandomForestClassifier\n",
    "\n",
    "# For model evaluation\n",
    "from sklearn.metrics import confusion_matrix, classification_report\n",
    "from sklearn.metrics import accuracy_score, precision_score, recall_score, f1_score, roc_curve, roc_auc_score\n",
    "from sklearn.model_selection import cross_validate\n",
    "from sklearn.metrics import make_scorer, accuracy_score, precision_score, recall_score, roc_auc_score"
   ]
  },
  {
   "cell_type": "markdown",
   "id": "f515f621",
   "metadata": {},
   "source": [
    "## Load Dataset"
   ]
  },
  {
   "cell_type": "code",
   "execution_count": 2,
   "id": "68bf388b",
   "metadata": {},
   "outputs": [
    {
     "data": {
      "text/html": [
       "<div>\n",
       "<style scoped>\n",
       "    .dataframe tbody tr th:only-of-type {\n",
       "        vertical-align: middle;\n",
       "    }\n",
       "\n",
       "    .dataframe tbody tr th {\n",
       "        vertical-align: top;\n",
       "    }\n",
       "\n",
       "    .dataframe thead th {\n",
       "        text-align: right;\n",
       "    }\n",
       "</style>\n",
       "<table border=\"1\" class=\"dataframe\">\n",
       "  <thead>\n",
       "    <tr style=\"text-align: right;\">\n",
       "      <th></th>\n",
       "      <th>State</th>\n",
       "      <th>Account length</th>\n",
       "      <th>Area code</th>\n",
       "      <th>International plan</th>\n",
       "      <th>Voice mail plan</th>\n",
       "      <th>Number vmail messages</th>\n",
       "      <th>Total day minutes</th>\n",
       "      <th>Total day calls</th>\n",
       "      <th>Total day charge</th>\n",
       "      <th>Total eve minutes</th>\n",
       "      <th>Total eve calls</th>\n",
       "      <th>Total eve charge</th>\n",
       "      <th>Total night minutes</th>\n",
       "      <th>Total night calls</th>\n",
       "      <th>Total night charge</th>\n",
       "      <th>Total intl minutes</th>\n",
       "      <th>Total intl calls</th>\n",
       "      <th>Total intl charge</th>\n",
       "      <th>Customer service calls</th>\n",
       "      <th>Churn</th>\n",
       "    </tr>\n",
       "  </thead>\n",
       "  <tbody>\n",
       "    <tr>\n",
       "      <th>0</th>\n",
       "      <td>KS</td>\n",
       "      <td>128</td>\n",
       "      <td>415</td>\n",
       "      <td>No</td>\n",
       "      <td>Yes</td>\n",
       "      <td>25</td>\n",
       "      <td>265.1</td>\n",
       "      <td>110</td>\n",
       "      <td>45.07</td>\n",
       "      <td>197.4</td>\n",
       "      <td>99</td>\n",
       "      <td>16.78</td>\n",
       "      <td>244.7</td>\n",
       "      <td>91</td>\n",
       "      <td>11.01</td>\n",
       "      <td>10.0</td>\n",
       "      <td>3</td>\n",
       "      <td>2.70</td>\n",
       "      <td>1</td>\n",
       "      <td>False</td>\n",
       "    </tr>\n",
       "    <tr>\n",
       "      <th>1</th>\n",
       "      <td>OH</td>\n",
       "      <td>107</td>\n",
       "      <td>415</td>\n",
       "      <td>No</td>\n",
       "      <td>Yes</td>\n",
       "      <td>26</td>\n",
       "      <td>161.6</td>\n",
       "      <td>123</td>\n",
       "      <td>27.47</td>\n",
       "      <td>195.5</td>\n",
       "      <td>103</td>\n",
       "      <td>16.62</td>\n",
       "      <td>254.4</td>\n",
       "      <td>103</td>\n",
       "      <td>11.45</td>\n",
       "      <td>13.7</td>\n",
       "      <td>3</td>\n",
       "      <td>3.70</td>\n",
       "      <td>1</td>\n",
       "      <td>False</td>\n",
       "    </tr>\n",
       "    <tr>\n",
       "      <th>2</th>\n",
       "      <td>NJ</td>\n",
       "      <td>137</td>\n",
       "      <td>415</td>\n",
       "      <td>No</td>\n",
       "      <td>No</td>\n",
       "      <td>0</td>\n",
       "      <td>243.4</td>\n",
       "      <td>114</td>\n",
       "      <td>41.38</td>\n",
       "      <td>121.2</td>\n",
       "      <td>110</td>\n",
       "      <td>10.30</td>\n",
       "      <td>162.6</td>\n",
       "      <td>104</td>\n",
       "      <td>7.32</td>\n",
       "      <td>12.2</td>\n",
       "      <td>5</td>\n",
       "      <td>3.29</td>\n",
       "      <td>0</td>\n",
       "      <td>False</td>\n",
       "    </tr>\n",
       "    <tr>\n",
       "      <th>3</th>\n",
       "      <td>OH</td>\n",
       "      <td>84</td>\n",
       "      <td>408</td>\n",
       "      <td>Yes</td>\n",
       "      <td>No</td>\n",
       "      <td>0</td>\n",
       "      <td>299.4</td>\n",
       "      <td>71</td>\n",
       "      <td>50.90</td>\n",
       "      <td>61.9</td>\n",
       "      <td>88</td>\n",
       "      <td>5.26</td>\n",
       "      <td>196.9</td>\n",
       "      <td>89</td>\n",
       "      <td>8.86</td>\n",
       "      <td>6.6</td>\n",
       "      <td>7</td>\n",
       "      <td>1.78</td>\n",
       "      <td>2</td>\n",
       "      <td>False</td>\n",
       "    </tr>\n",
       "    <tr>\n",
       "      <th>4</th>\n",
       "      <td>OK</td>\n",
       "      <td>75</td>\n",
       "      <td>415</td>\n",
       "      <td>Yes</td>\n",
       "      <td>No</td>\n",
       "      <td>0</td>\n",
       "      <td>166.7</td>\n",
       "      <td>113</td>\n",
       "      <td>28.34</td>\n",
       "      <td>148.3</td>\n",
       "      <td>122</td>\n",
       "      <td>12.61</td>\n",
       "      <td>186.9</td>\n",
       "      <td>121</td>\n",
       "      <td>8.41</td>\n",
       "      <td>10.1</td>\n",
       "      <td>3</td>\n",
       "      <td>2.73</td>\n",
       "      <td>3</td>\n",
       "      <td>False</td>\n",
       "    </tr>\n",
       "    <tr>\n",
       "      <th>...</th>\n",
       "      <td>...</td>\n",
       "      <td>...</td>\n",
       "      <td>...</td>\n",
       "      <td>...</td>\n",
       "      <td>...</td>\n",
       "      <td>...</td>\n",
       "      <td>...</td>\n",
       "      <td>...</td>\n",
       "      <td>...</td>\n",
       "      <td>...</td>\n",
       "      <td>...</td>\n",
       "      <td>...</td>\n",
       "      <td>...</td>\n",
       "      <td>...</td>\n",
       "      <td>...</td>\n",
       "      <td>...</td>\n",
       "      <td>...</td>\n",
       "      <td>...</td>\n",
       "      <td>...</td>\n",
       "      <td>...</td>\n",
       "    </tr>\n",
       "    <tr>\n",
       "      <th>2661</th>\n",
       "      <td>SC</td>\n",
       "      <td>79</td>\n",
       "      <td>415</td>\n",
       "      <td>No</td>\n",
       "      <td>No</td>\n",
       "      <td>0</td>\n",
       "      <td>134.7</td>\n",
       "      <td>98</td>\n",
       "      <td>22.90</td>\n",
       "      <td>189.7</td>\n",
       "      <td>68</td>\n",
       "      <td>16.12</td>\n",
       "      <td>221.4</td>\n",
       "      <td>128</td>\n",
       "      <td>9.96</td>\n",
       "      <td>11.8</td>\n",
       "      <td>5</td>\n",
       "      <td>3.19</td>\n",
       "      <td>2</td>\n",
       "      <td>False</td>\n",
       "    </tr>\n",
       "    <tr>\n",
       "      <th>2662</th>\n",
       "      <td>AZ</td>\n",
       "      <td>192</td>\n",
       "      <td>415</td>\n",
       "      <td>No</td>\n",
       "      <td>Yes</td>\n",
       "      <td>36</td>\n",
       "      <td>156.2</td>\n",
       "      <td>77</td>\n",
       "      <td>26.55</td>\n",
       "      <td>215.5</td>\n",
       "      <td>126</td>\n",
       "      <td>18.32</td>\n",
       "      <td>279.1</td>\n",
       "      <td>83</td>\n",
       "      <td>12.56</td>\n",
       "      <td>9.9</td>\n",
       "      <td>6</td>\n",
       "      <td>2.67</td>\n",
       "      <td>2</td>\n",
       "      <td>False</td>\n",
       "    </tr>\n",
       "    <tr>\n",
       "      <th>2663</th>\n",
       "      <td>WV</td>\n",
       "      <td>68</td>\n",
       "      <td>415</td>\n",
       "      <td>No</td>\n",
       "      <td>No</td>\n",
       "      <td>0</td>\n",
       "      <td>231.1</td>\n",
       "      <td>57</td>\n",
       "      <td>39.29</td>\n",
       "      <td>153.4</td>\n",
       "      <td>55</td>\n",
       "      <td>13.04</td>\n",
       "      <td>191.3</td>\n",
       "      <td>123</td>\n",
       "      <td>8.61</td>\n",
       "      <td>9.6</td>\n",
       "      <td>4</td>\n",
       "      <td>2.59</td>\n",
       "      <td>3</td>\n",
       "      <td>False</td>\n",
       "    </tr>\n",
       "    <tr>\n",
       "      <th>2664</th>\n",
       "      <td>RI</td>\n",
       "      <td>28</td>\n",
       "      <td>510</td>\n",
       "      <td>No</td>\n",
       "      <td>No</td>\n",
       "      <td>0</td>\n",
       "      <td>180.8</td>\n",
       "      <td>109</td>\n",
       "      <td>30.74</td>\n",
       "      <td>288.8</td>\n",
       "      <td>58</td>\n",
       "      <td>24.55</td>\n",
       "      <td>191.9</td>\n",
       "      <td>91</td>\n",
       "      <td>8.64</td>\n",
       "      <td>14.1</td>\n",
       "      <td>6</td>\n",
       "      <td>3.81</td>\n",
       "      <td>2</td>\n",
       "      <td>False</td>\n",
       "    </tr>\n",
       "    <tr>\n",
       "      <th>2665</th>\n",
       "      <td>TN</td>\n",
       "      <td>74</td>\n",
       "      <td>415</td>\n",
       "      <td>No</td>\n",
       "      <td>Yes</td>\n",
       "      <td>25</td>\n",
       "      <td>234.4</td>\n",
       "      <td>113</td>\n",
       "      <td>39.85</td>\n",
       "      <td>265.9</td>\n",
       "      <td>82</td>\n",
       "      <td>22.60</td>\n",
       "      <td>241.4</td>\n",
       "      <td>77</td>\n",
       "      <td>10.86</td>\n",
       "      <td>13.7</td>\n",
       "      <td>4</td>\n",
       "      <td>3.70</td>\n",
       "      <td>0</td>\n",
       "      <td>False</td>\n",
       "    </tr>\n",
       "  </tbody>\n",
       "</table>\n",
       "<p>2666 rows × 20 columns</p>\n",
       "</div>"
      ],
      "text/plain": [
       "     State  Account length  Area code International plan Voice mail plan  \\\n",
       "0       KS             128        415                 No             Yes   \n",
       "1       OH             107        415                 No             Yes   \n",
       "2       NJ             137        415                 No              No   \n",
       "3       OH              84        408                Yes              No   \n",
       "4       OK              75        415                Yes              No   \n",
       "...    ...             ...        ...                ...             ...   \n",
       "2661    SC              79        415                 No              No   \n",
       "2662    AZ             192        415                 No             Yes   \n",
       "2663    WV              68        415                 No              No   \n",
       "2664    RI              28        510                 No              No   \n",
       "2665    TN              74        415                 No             Yes   \n",
       "\n",
       "      Number vmail messages  Total day minutes  Total day calls  \\\n",
       "0                        25              265.1              110   \n",
       "1                        26              161.6              123   \n",
       "2                         0              243.4              114   \n",
       "3                         0              299.4               71   \n",
       "4                         0              166.7              113   \n",
       "...                     ...                ...              ...   \n",
       "2661                      0              134.7               98   \n",
       "2662                     36              156.2               77   \n",
       "2663                      0              231.1               57   \n",
       "2664                      0              180.8              109   \n",
       "2665                     25              234.4              113   \n",
       "\n",
       "      Total day charge  Total eve minutes  Total eve calls  Total eve charge  \\\n",
       "0                45.07              197.4               99             16.78   \n",
       "1                27.47              195.5              103             16.62   \n",
       "2                41.38              121.2              110             10.30   \n",
       "3                50.90               61.9               88              5.26   \n",
       "4                28.34              148.3              122             12.61   \n",
       "...                ...                ...              ...               ...   \n",
       "2661             22.90              189.7               68             16.12   \n",
       "2662             26.55              215.5              126             18.32   \n",
       "2663             39.29              153.4               55             13.04   \n",
       "2664             30.74              288.8               58             24.55   \n",
       "2665             39.85              265.9               82             22.60   \n",
       "\n",
       "      Total night minutes  Total night calls  Total night charge  \\\n",
       "0                   244.7                 91               11.01   \n",
       "1                   254.4                103               11.45   \n",
       "2                   162.6                104                7.32   \n",
       "3                   196.9                 89                8.86   \n",
       "4                   186.9                121                8.41   \n",
       "...                   ...                ...                 ...   \n",
       "2661                221.4                128                9.96   \n",
       "2662                279.1                 83               12.56   \n",
       "2663                191.3                123                8.61   \n",
       "2664                191.9                 91                8.64   \n",
       "2665                241.4                 77               10.86   \n",
       "\n",
       "      Total intl minutes  Total intl calls  Total intl charge  \\\n",
       "0                   10.0                 3               2.70   \n",
       "1                   13.7                 3               3.70   \n",
       "2                   12.2                 5               3.29   \n",
       "3                    6.6                 7               1.78   \n",
       "4                   10.1                 3               2.73   \n",
       "...                  ...               ...                ...   \n",
       "2661                11.8                 5               3.19   \n",
       "2662                 9.9                 6               2.67   \n",
       "2663                 9.6                 4               2.59   \n",
       "2664                14.1                 6               3.81   \n",
       "2665                13.7                 4               3.70   \n",
       "\n",
       "      Customer service calls  Churn  \n",
       "0                          1  False  \n",
       "1                          1  False  \n",
       "2                          0  False  \n",
       "3                          2  False  \n",
       "4                          3  False  \n",
       "...                      ...    ...  \n",
       "2661                       2  False  \n",
       "2662                       2  False  \n",
       "2663                       3  False  \n",
       "2664                       2  False  \n",
       "2665                       0  False  \n",
       "\n",
       "[2666 rows x 20 columns]"
      ]
     },
     "execution_count": 2,
     "metadata": {},
     "output_type": "execute_result"
    }
   ],
   "source": [
    "data = pd.read_csv('churn-bigml-80.csv')\n",
    "data"
   ]
  },
  {
   "cell_type": "markdown",
   "id": "11c1aa83",
   "metadata": {},
   "source": [
    "## Data Preprocessing"
   ]
  },
  {
   "cell_type": "markdown",
   "id": "ca53db81",
   "metadata": {},
   "source": [
    "### Check & adjust Data Type"
   ]
  },
  {
   "cell_type": "code",
   "execution_count": 3,
   "id": "6c1342cb",
   "metadata": {
    "scrolled": true
   },
   "outputs": [
    {
     "name": "stdout",
     "output_type": "stream",
     "text": [
      "<class 'pandas.core.frame.DataFrame'>\n",
      "RangeIndex: 2666 entries, 0 to 2665\n",
      "Data columns (total 20 columns):\n",
      " #   Column                  Non-Null Count  Dtype  \n",
      "---  ------                  --------------  -----  \n",
      " 0   State                   2666 non-null   object \n",
      " 1   Account length          2666 non-null   int64  \n",
      " 2   Area code               2666 non-null   int64  \n",
      " 3   International plan      2666 non-null   object \n",
      " 4   Voice mail plan         2666 non-null   object \n",
      " 5   Number vmail messages   2666 non-null   int64  \n",
      " 6   Total day minutes       2666 non-null   float64\n",
      " 7   Total day calls         2666 non-null   int64  \n",
      " 8   Total day charge        2666 non-null   float64\n",
      " 9   Total eve minutes       2666 non-null   float64\n",
      " 10  Total eve calls         2666 non-null   int64  \n",
      " 11  Total eve charge        2666 non-null   float64\n",
      " 12  Total night minutes     2666 non-null   float64\n",
      " 13  Total night calls       2666 non-null   int64  \n",
      " 14  Total night charge      2666 non-null   float64\n",
      " 15  Total intl minutes      2666 non-null   float64\n",
      " 16  Total intl calls        2666 non-null   int64  \n",
      " 17  Total intl charge       2666 non-null   float64\n",
      " 18  Customer service calls  2666 non-null   int64  \n",
      " 19  Churn                   2666 non-null   bool   \n",
      "dtypes: bool(1), float64(8), int64(8), object(3)\n",
      "memory usage: 398.5+ KB\n"
     ]
    }
   ],
   "source": [
    "# Checking Data Type for every variables\n",
    "data.info()"
   ]
  },
  {
   "cell_type": "markdown",
   "id": "11fd276a",
   "metadata": {},
   "source": [
    "From comparing data.info() and the Dataset, we can deduce the following:\n",
    "1. We can drop the 'Account length' and 'State' column as it will not affect the prediction.\n",
    "2. For 'International plan', 'Voice mail plan', 'Churn' column, we need to adjust the Data type. Because the data type is categorical (object) and we need to adjust it to numerical data."
   ]
  },
  {
   "cell_type": "markdown",
   "id": "2b2792ed",
   "metadata": {},
   "source": [
    "#### Drop 'Account length'"
   ]
  },
  {
   "cell_type": "code",
   "execution_count": 4,
   "id": "bd2bb2b1",
   "metadata": {},
   "outputs": [],
   "source": [
    "# Drop 'Account length' and 'State' Column\n",
    "data.drop(['Account length','State'], axis = 1, inplace = True)"
   ]
  },
  {
   "cell_type": "markdown",
   "id": "e96a5ec2",
   "metadata": {},
   "source": [
    "#### Encode Categorical (Adjust Data type )"
   ]
  },
  {
   "cell_type": "code",
   "execution_count": 5,
   "id": "5299ccc2",
   "metadata": {},
   "outputs": [],
   "source": [
    "# For 'International plan', 'Voice mail plan', 'Churn', because it's boolean values, we can change the values to 1 and 0\n",
    "data['Churn'] = [1 if i == True else 0 for i in data['Churn']]\n",
    "data['International plan'] = [1 if i == 'Yes' else 0 for i in data['International plan']]\n",
    "data['Voice mail plan'] = [1 if i == 'Yes' else 0 for i in data['Voice mail plan']]"
   ]
  },
  {
   "cell_type": "markdown",
   "id": "8028d9eb",
   "metadata": {},
   "source": [
    "Now the data can be processed by the computer."
   ]
  },
  {
   "cell_type": "markdown",
   "id": "f517405d",
   "metadata": {},
   "source": [
    "### Check & Handle Duplicate"
   ]
  },
  {
   "cell_type": "code",
   "execution_count": 6,
   "id": "7fac6366",
   "metadata": {},
   "outputs": [
    {
     "data": {
      "text/plain": [
       "0"
      ]
     },
     "execution_count": 6,
     "metadata": {},
     "output_type": "execute_result"
    }
   ],
   "source": [
    "# Checking Duplicate data\n",
    "data.duplicated().sum()"
   ]
  },
  {
   "cell_type": "markdown",
   "id": "68f785cf",
   "metadata": {},
   "source": [
    "There's no duplication in the dataset"
   ]
  },
  {
   "cell_type": "markdown",
   "id": "04af6e88",
   "metadata": {},
   "source": [
    "### Check & Handle Missing Values"
   ]
  },
  {
   "cell_type": "code",
   "execution_count": 7,
   "id": "ea52014f",
   "metadata": {},
   "outputs": [
    {
     "data": {
      "text/html": [
       "<div>\n",
       "<style scoped>\n",
       "    .dataframe tbody tr th:only-of-type {\n",
       "        vertical-align: middle;\n",
       "    }\n",
       "\n",
       "    .dataframe tbody tr th {\n",
       "        vertical-align: top;\n",
       "    }\n",
       "\n",
       "    .dataframe thead th {\n",
       "        text-align: right;\n",
       "    }\n",
       "</style>\n",
       "<table border=\"1\" class=\"dataframe\">\n",
       "  <thead>\n",
       "    <tr style=\"text-align: right;\">\n",
       "      <th></th>\n",
       "      <th># mv</th>\n",
       "      <th>% mv</th>\n",
       "    </tr>\n",
       "  </thead>\n",
       "  <tbody>\n",
       "    <tr>\n",
       "      <th>Area code</th>\n",
       "      <td>0</td>\n",
       "      <td>0.0</td>\n",
       "    </tr>\n",
       "    <tr>\n",
       "      <th>International plan</th>\n",
       "      <td>0</td>\n",
       "      <td>0.0</td>\n",
       "    </tr>\n",
       "    <tr>\n",
       "      <th>Customer service calls</th>\n",
       "      <td>0</td>\n",
       "      <td>0.0</td>\n",
       "    </tr>\n",
       "    <tr>\n",
       "      <th>Total intl charge</th>\n",
       "      <td>0</td>\n",
       "      <td>0.0</td>\n",
       "    </tr>\n",
       "    <tr>\n",
       "      <th>Total intl calls</th>\n",
       "      <td>0</td>\n",
       "      <td>0.0</td>\n",
       "    </tr>\n",
       "    <tr>\n",
       "      <th>Total intl minutes</th>\n",
       "      <td>0</td>\n",
       "      <td>0.0</td>\n",
       "    </tr>\n",
       "    <tr>\n",
       "      <th>Total night charge</th>\n",
       "      <td>0</td>\n",
       "      <td>0.0</td>\n",
       "    </tr>\n",
       "    <tr>\n",
       "      <th>Total night calls</th>\n",
       "      <td>0</td>\n",
       "      <td>0.0</td>\n",
       "    </tr>\n",
       "    <tr>\n",
       "      <th>Total night minutes</th>\n",
       "      <td>0</td>\n",
       "      <td>0.0</td>\n",
       "    </tr>\n",
       "    <tr>\n",
       "      <th>Total eve charge</th>\n",
       "      <td>0</td>\n",
       "      <td>0.0</td>\n",
       "    </tr>\n",
       "    <tr>\n",
       "      <th>Total eve calls</th>\n",
       "      <td>0</td>\n",
       "      <td>0.0</td>\n",
       "    </tr>\n",
       "    <tr>\n",
       "      <th>Total eve minutes</th>\n",
       "      <td>0</td>\n",
       "      <td>0.0</td>\n",
       "    </tr>\n",
       "    <tr>\n",
       "      <th>Total day charge</th>\n",
       "      <td>0</td>\n",
       "      <td>0.0</td>\n",
       "    </tr>\n",
       "    <tr>\n",
       "      <th>Total day calls</th>\n",
       "      <td>0</td>\n",
       "      <td>0.0</td>\n",
       "    </tr>\n",
       "    <tr>\n",
       "      <th>Total day minutes</th>\n",
       "      <td>0</td>\n",
       "      <td>0.0</td>\n",
       "    </tr>\n",
       "    <tr>\n",
       "      <th>Number vmail messages</th>\n",
       "      <td>0</td>\n",
       "      <td>0.0</td>\n",
       "    </tr>\n",
       "    <tr>\n",
       "      <th>Voice mail plan</th>\n",
       "      <td>0</td>\n",
       "      <td>0.0</td>\n",
       "    </tr>\n",
       "    <tr>\n",
       "      <th>Churn</th>\n",
       "      <td>0</td>\n",
       "      <td>0.0</td>\n",
       "    </tr>\n",
       "  </tbody>\n",
       "</table>\n",
       "</div>"
      ],
      "text/plain": [
       "                        # mv  % mv\n",
       "Area code                  0   0.0\n",
       "International plan         0   0.0\n",
       "Customer service calls     0   0.0\n",
       "Total intl charge          0   0.0\n",
       "Total intl calls           0   0.0\n",
       "Total intl minutes         0   0.0\n",
       "Total night charge         0   0.0\n",
       "Total night calls          0   0.0\n",
       "Total night minutes        0   0.0\n",
       "Total eve charge           0   0.0\n",
       "Total eve calls            0   0.0\n",
       "Total eve minutes          0   0.0\n",
       "Total day charge           0   0.0\n",
       "Total day calls            0   0.0\n",
       "Total day minutes          0   0.0\n",
       "Number vmail messages      0   0.0\n",
       "Voice mail plan            0   0.0\n",
       "Churn                      0   0.0"
      ]
     },
     "execution_count": 7,
     "metadata": {},
     "output_type": "execute_result"
    }
   ],
   "source": [
    "# Checking missing values\n",
    "mv_report = pd.DataFrame({})\n",
    "mv_report['# mv'] = data.isna().sum() # The amount of missing values for every column\n",
    "mv_report['% mv'] = (data.isna().sum() / len(data))*100 # The amount of missing values for every column (in %)\n",
    "\n",
    "mv_report.sort_values('# mv', ascending=False)"
   ]
  },
  {
   "cell_type": "markdown",
   "id": "3547bd26",
   "metadata": {},
   "source": [
    "There's no missing values in the dataset"
   ]
  },
  {
   "cell_type": "markdown",
   "id": "620a2e55",
   "metadata": {},
   "source": [
    "### Check & Handle Imbalance Data"
   ]
  },
  {
   "cell_type": "markdown",
   "id": "a621d2d5",
   "metadata": {},
   "source": [
    "To predict customer churn, the 'Churn' column should be our target column. It is important to check the values in the 'Churn' column to determine whether they represent balanced or imbalanced classes. If it's not balance, we need to balance it so the machine can increase the prediction performance."
   ]
  },
  {
   "cell_type": "code",
   "execution_count": 8,
   "id": "86d9d8c0",
   "metadata": {},
   "outputs": [
    {
     "data": {
      "image/png": "[encoded data removed]",
      "text/plain": [
       "<Figure size 640x480 with 1 Axes>"
      ]
     },
     "metadata": {},
     "output_type": "display_data"
    }
   ],
   "source": [
    "churn_counts = data['Churn'].value_counts()\n",
    "\n",
    "total_customers = churn_counts.sum()\n",
    "churn_percent = churn_counts / total_customers * 100\n",
    "\n",
    "plt.bar(['Not Churn', 'Churn'], churn_percent.values)\n",
    "\n",
    "# Displaying the percentage above each bar\n",
    "for i, percent in enumerate(churn_percent.values):\n",
    "    plt.text(i, percent, f'{percent:.2f}%', ha='center', va='bottom')\n",
    "\n",
    "plt.ylabel('Percentage')\n",
    "plt.title('Churn Distribution')\n",
    "plt.show()\n"
   ]
  },
  {
   "cell_type": "markdown",
   "id": "8e19dc25",
   "metadata": {},
   "source": [
    "The chart reveals a significant disparity between the churned and non-churned customers, with approximately 14% of the data representing churned customers and 85% representing non-churned customers. Given this imbalance, it is necessary to address it by oversampling the minority class. To achieve this, we will utilize SMOTE (Synthetic Minority Over-sampling Technique), which generates synthetic data by leveraging the characteristics of the nearest neighbors. The imblearn python library provides the necessary tools to implement this technique.\n",
    "\n",
    "Additionally, it is important to ensure that the machine learning model is not tested on synthetic or artificially generated data. To address this concern, the SMOTE technique is applied exclusively to the training data. To accomplish this, the data is split into training and testing sets using the train_test_split function from scikit-learn. By doing so, the model evaluation will be performed on authentic data, while the training process incorporates synthetic samples to address class imbalance.\n",
    "\n",
    "Lastly, we need to define the dependent (y) and independent (x) variables. The dependent variable, or the target variable, is 'Churn'. The independent variables consist of all columns except the target variable."
   ]
  },
  {
   "cell_type": "code",
   "execution_count": 9,
   "id": "1675f317",
   "metadata": {},
   "outputs": [],
   "source": [
    "# Splitting the data as X and y\n",
    "x = data.drop('Churn', axis=1) # all columns except 'churn'\n",
    "y = data['Churn'] # only churn\n",
    "\n",
    "# Making a SMOTE object\n",
    "resampler = SMOTE(random_state=42)\n",
    "\n",
    "# Splitting the data into train and test\n",
    "x_train, x_test, y_train, y_test = train_test_split(x, y, test_size=0.2, stratify=y)\n",
    "\n",
    "# Resampling the train data\n",
    "x_resampled, y_resampled = resampler.fit_resample(x_train, y_train)"
   ]
  },
  {
   "cell_type": "code",
   "execution_count": 10,
   "id": "cee8fa9b",
   "metadata": {},
   "outputs": [
    {
     "data": {
      "image/png": "[encoded data removed]",
      "text/plain": [
       "<Figure size 640x480 with 1 Axes>"
      ]
     },
     "metadata": {},
     "output_type": "display_data"
    }
   ],
   "source": [
    "# Checking balanced data\n",
    "y_resampled_counts = y_resampled.value_counts()\n",
    "\n",
    "plt.bar(['Not Churn', 'Churn'], y_resampled_counts.values)\n",
    "\n",
    "# Displaying the number of occurrences above each bar\n",
    "for i, count in enumerate(y_resampled_counts.values):\n",
    "    plt.text(i, count, str(count), ha='center', va='bottom')\n",
    "\n",
    "plt.ylabel('Count')\n",
    "plt.title('Resampled Churn Distribution')\n",
    "plt.show()\n"
   ]
  },
  {
   "cell_type": "markdown",
   "id": "aed22d7d",
   "metadata": {},
   "source": [
    "Now that the data is balanced, it is time to proceed with training the models."
   ]
  },
  {
   "cell_type": "markdown",
   "id": "a7c3e9f7",
   "metadata": {},
   "source": [
    "## Training Models"
   ]
  },
  {
   "cell_type": "code",
   "execution_count": 11,
   "id": "5ce8f190",
   "metadata": {},
   "outputs": [
    {
     "name": "stderr",
     "output_type": "stream",
     "text": [
      "C:\\Anaconda3\\lib\\site-packages\\sklearn\\linear_model\\_logistic.py:814: ConvergenceWarning: lbfgs failed to converge (status=1):\n",
      "STOP: TOTAL NO. of ITERATIONS REACHED LIMIT.\n",
      "\n",
      "Increase the number of iterations (max_iter) or scale the data as shown in:\n",
      "    https://scikit-learn.org/stable/modules/preprocessing.html\n",
      "Please also refer to the documentation for alternative solver options:\n",
      "    https://scikit-learn.org/stable/modules/linear_model.html#logistic-regression\n",
      "  n_iter_i = _check_optimize_result(\n"
     ]
    }
   ],
   "source": [
    "# Making an object for LogisticRegression\n",
    "model_log = LogisticRegression()\n",
    "\n",
    "# Fitting the data\n",
    "model_log.fit(x_resampled, y_resampled)\n",
    "\n",
    "# Predicting on x_test\n",
    "y_pred_log = model_log.predict(x_test)\n",
    "\n",
    "# Making an object for Decision Tree Classifier\n",
    "model_dt = DecisionTreeClassifier()\n",
    "\n",
    "# Fitting the data\n",
    "model_dt.fit(x_resampled, y_resampled)\n",
    "\n",
    "# Predicting on x_test\n",
    "y_pred_dt = model_dt.predict(x_test)\n",
    "\n",
    "# Making an object for Random Forest\n",
    "model_rf = RandomForestClassifier()\n",
    "\n",
    "# Fitting the data\n",
    "model_rf.fit(x_resampled, y_resampled)\n",
    "\n",
    "# Predicting on x_test\n",
    "y_pred_rf = model_rf.predict(x_test)"
   ]
  },
  {
   "cell_type": "code",
   "execution_count": 29,
   "id": "567712dc",
   "metadata": {},
   "outputs": [],
   "source": [
    "import warnings\n",
    "from sklearn.exceptions import ConvergenceWarning\n",
    "\n",
    "# Ignore ConvergenceWarning\n",
    "warnings.filterwarnings(\"ignore\", category=ConvergenceWarning)\n",
    "\n",
    "# Your code here without displaying the ConvergenceWarning"
   ]
  },
  {
   "cell_type": "markdown",
   "id": "a42f2b1b",
   "metadata": {},
   "source": [
    "After training the models, we proceed to evaluate its performance using several metrics, including accuracy, precision, recall, and ROC AUC. To ensure a more robust evaluation, we employ cross-validation, which helps mitigate the impact of data variability and provides more reliable performance estimates."
   ]
  },
  {
   "cell_type": "code",
   "execution_count": 45,
   "id": "a19cf4f4",
   "metadata": {
    "scrolled": false
   },
   "outputs": [],
   "source": [
    "# Evaluation / Performance model\n",
    "models = [model_log, model_dt, model_rf]\n",
    "scoring_metrics = {\n",
    "    'accuracy': make_scorer(accuracy_score),\n",
    "    'precision': make_scorer(precision_score),\n",
    "    'recall': make_scorer(recall_score),\n",
    "    'roc_auc': make_scorer(roc_auc_score)\n",
    "}\n",
    "\n",
    "cv_scores = []\n",
    "for model in models:\n",
    "    scores = cross_validate(model, x_resampled, y_resampled, cv=5, scoring=scoring_metrics)\n",
    "    cv_scores.append([scores['test_accuracy'].mean(), scores['test_precision'].mean(),\n",
    "                      scores['test_recall'].mean(), scores['test_roc_auc'].mean()])\n",
    "\n",
    "compare_cv = pd.DataFrame(cv_scores, columns=['Accuracy', 'Precision', 'Recall', 'ROC AUC'])\n",
    "compare_cv['Model Name'] = ['LR', 'DT', 'RF']\n",
    "compare_cv = compare_cv[['Model Name', 'Accuracy', 'Precision', 'Recall', 'ROC AUC']]"
   ]
  },
  {
   "cell_type": "code",
   "execution_count": 46,
   "id": "2a02ef0f",
   "metadata": {},
   "outputs": [
    {
     "data": {
      "text/html": [
       "<div>\n",
       "<style scoped>\n",
       "    .dataframe tbody tr th:only-of-type {\n",
       "        vertical-align: middle;\n",
       "    }\n",
       "\n",
       "    .dataframe tbody tr th {\n",
       "        vertical-align: top;\n",
       "    }\n",
       "\n",
       "    .dataframe thead th {\n",
       "        text-align: right;\n",
       "    }\n",
       "</style>\n",
       "<table border=\"1\" class=\"dataframe\">\n",
       "  <thead>\n",
       "    <tr style=\"text-align: right;\">\n",
       "      <th></th>\n",
       "      <th>Model Name</th>\n",
       "      <th>Accuracy</th>\n",
       "      <th>Precision</th>\n",
       "      <th>Recall</th>\n",
       "      <th>ROC AUC</th>\n",
       "    </tr>\n",
       "  </thead>\n",
       "  <tbody>\n",
       "    <tr>\n",
       "      <th>2</th>\n",
       "      <td>RF</td>\n",
       "      <td>0.933861</td>\n",
       "      <td>0.948195</td>\n",
       "      <td>0.917649</td>\n",
       "      <td>0.933855</td>\n",
       "    </tr>\n",
       "    <tr>\n",
       "      <th>1</th>\n",
       "      <td>DT</td>\n",
       "      <td>0.861139</td>\n",
       "      <td>0.846545</td>\n",
       "      <td>0.882526</td>\n",
       "      <td>0.861136</td>\n",
       "    </tr>\n",
       "    <tr>\n",
       "      <th>0</th>\n",
       "      <td>LR</td>\n",
       "      <td>0.689071</td>\n",
       "      <td>0.679571</td>\n",
       "      <td>0.715118</td>\n",
       "      <td>0.689062</td>\n",
       "    </tr>\n",
       "  </tbody>\n",
       "</table>\n",
       "</div>"
      ],
      "text/plain": [
       "  Model Name  Accuracy  Precision    Recall   ROC AUC\n",
       "2         RF  0.933861   0.948195  0.917649  0.933855\n",
       "1         DT  0.861139   0.846545  0.882526  0.861136\n",
       "0         LR  0.689071   0.679571  0.715118  0.689062"
      ]
     },
     "execution_count": 46,
     "metadata": {},
     "output_type": "execute_result"
    }
   ],
   "source": [
    "compare_cv.sort_values('Accuracy', ascending=False)"
   ]
  },
  {
   "cell_type": "markdown",
   "id": "e473d0f7",
   "metadata": {},
   "source": [
    "Based on the comparing report above, it is evident that using Random Forest model is the best way to achieves a satisfactory score in predicting customer churn, which is great.\n",
    "\n",
    "Lastly, let's make Confusion Matrix."
   ]
  },
  {
   "cell_type": "code",
   "execution_count": 39,
   "id": "866e2f0a",
   "metadata": {},
   "outputs": [
    {
     "data": {
      "image/png": "[encoded data removed]",
      "text/plain": [
       "<Figure size 640x480 with 2 Axes>"
      ]
     },
     "metadata": {},
     "output_type": "display_data"
    }
   ],
   "source": [
    "# Confusion Matrix\n",
    "\n",
    "# Define your model\n",
    "model = RandomForestClassifier()\n",
    "\n",
    "# Perform cross-validated predictions on the training data\n",
    "cross_val_predictions = cross_val_predict(model, x_resampled, y_resampled, cv=5)\n",
    "\n",
    "# Compute the confusion matrix\n",
    "cm = confusion_matrix(y_resampled, cross_val_predictions)\n",
    "\n",
    "# Create a heatmap of the confusion matrix\n",
    "sns.heatmap(cm, annot=True, fmt='d', cmap='Blues')\n",
    "\n",
    "# Add labels and title\n",
    "plt.xlabel('Predicted')\n",
    "plt.ylabel('True')\n",
    "plt.title('Confusion Matrix')\n",
    "\n",
    "# Display the plot\n",
    "plt.show()"
   ]
  },
  {
   "cell_type": "markdown",
   "id": "5c2ebe23",
   "metadata": {},
   "source": [
    "Across multiple runs, out of 1822 churned customer samples, an average of 1667 samples were correctly classified, while 155 samples were misclassified."
   ]
  },
  {
   "cell_type": "markdown",
   "id": "4619afb3",
   "metadata": {},
   "source": [
    "## Conclusion\n",
    "\n",
    "Based on the comparison report, it is evident that using the Random Forest model is the most effective approach to achieve a satisfactory score in predicting customer churn. Our treatment and model provide a high level of confidence, with a 93% accuracy in predicting customer churn correctly. Additionally, out of all the customers predicted to churn, 94% of them are indeed churned (True Positive), while the remaining 6% are not actually churned (False Positive)."
   ]
  },
  {
   "cell_type": "code",
   "execution_count": null,
   "id": "d61fcde2",
   "metadata": {},
   "outputs": [],
   "source": []
  },
  {
   "cell_type": "code",
   "execution_count": null,
   "id": "c223c8d2",
   "metadata": {},
   "outputs": [],
   "source": []
  },
  {
   "cell_type": "code",
   "execution_count": null,
   "id": "7b867014",
   "metadata": {},
   "outputs": [],
   "source": []
  }
 ],
 "metadata": {
  "kernelspec": {
   "display_name": "Python 3 (ipykernel)",
   "language": "python",
   "name": "python3"
  },
  "language_info": {
   "codemirror_mode": {
    "name": "ipython",
    "version": 3
   },
   "file_extension": ".py",
   "mimetype": "text/x-python",
   "name": "python",
   "nbconvert_exporter": "python",
   "pygments_lexer": "ipython3",
   "version": "3.9.13"
  }
 },
 "nbformat": 4,
 "nbformat_minor": 5
}
